{
 "cells": [
  {
   "cell_type": "code",
   "execution_count": 1,
   "metadata": {},
   "outputs": [],
   "source": [
    "import random"
   ]
  },
  {
   "cell_type": "code",
   "execution_count": 2,
   "metadata": {},
   "outputs": [],
   "source": [
    "class Neuron:\n",
    "    def __init__(self, id, input = 0, output = 0, weight = 0, bias = 0):\n",
    "        self.id = id\n",
    "        self.input = input\n",
    "        self.output = output\n",
    "        self.weight = weight\n",
    "        self.bias = bias\n",
    "    def __repr__(self):\n",
    "        pass\n",
    "    def __str__(self):\n",
    "        pass"
   ]
  },
  {
   "cell_type": "code",
   "execution_count": 3,
   "metadata": {},
   "outputs": [],
   "source": [
    "class Perceptron:\n",
    "    def __init__(self, weight, bias):\n",
    "        self.weight = weight\n",
    "        self.bias = bias\n",
    "    def __repr__(self):\n",
    "        return \"Weights: {}, Bias: {}.\".format(self.weight, self.bias)\n",
    "    def __str__(self, input):\n",
    "        return \"Weights: {}, Bias: {}.\".format(self.weight, self.bias)\n",
    "    \n",
    "    def activation(self, input):\n",
    "        total = 0\n",
    "        for i in range(0, len(input)):\n",
    "            try:\n",
    "                total += (input[i] * self.weight[i]) #Input * weight van i\n",
    "            except IndexError:\n",
    "                raise Exception(\"Te veel inputs meegegeven:\\ninput - {}, weights - {}\\ntotaal lengte: input - {}, weights - {}\".format(input, self.weight, len(input), len(self.weight)))\n",
    "        if( (total+self.bias) >= 0):\n",
    "            return 1\n",
    "        else:\n",
    "            return 0\n",
    "    "
   ]
  },
  {
   "cell_type": "code",
   "execution_count": 4,
   "metadata": {},
   "outputs": [
    {
     "name": "stdout",
     "output_type": "stream",
     "text": [
      "INVERT:\n",
      "Verwacht | Werkelijke\n",
      "1 |  1\n",
      "0 |  0\n"
     ]
    }
   ],
   "source": [
    "print(\"INVERT:\\nVerwacht | Werkelijke\") #weight (hier -1) * input (bij activation) moet gelijk of hoger uitkomen dan de bias * -1.\n",
    "inv = Perceptron([-1], 0)\n",
    "print(\"1 | \", inv.activation([0]))\n",
    "print(\"0 | \", inv.activation([1]))"
   ]
  },
  {
   "cell_type": "code",
   "execution_count": 5,
   "metadata": {},
   "outputs": [
    {
     "name": "stdout",
     "output_type": "stream",
     "text": [
      "AND:\n",
      "Verwacht | Werkelijke\n",
      "0 |  0\n",
      "0 |  0\n",
      "0 |  0\n",
      "1 |  1\n"
     ]
    }
   ],
   "source": [
    "print(\"AND:\\nVerwacht | Werkelijke\")\n",
    "andP = Perceptron([1, 1], -2)\n",
    "print(\"0 | \", andP.activation([0, 0]))\n",
    "print(\"0 | \", andP.activation([0, 1]))\n",
    "print(\"0 | \", andP.activation([1, 0]))\n",
    "print(\"1 | \", andP.activation([1, 1]))"
   ]
  },
  {
   "cell_type": "code",
   "execution_count": 6,
   "metadata": {},
   "outputs": [
    {
     "name": "stdout",
     "output_type": "stream",
     "text": [
      "NAND:\n",
      "Verwacht | Werkelijke\n",
      "1 |  1\n",
      "1 |  1\n",
      "1 |  1\n",
      "0 |  0\n"
     ]
    }
   ],
   "source": [
    "print(\"NAND:\\nVerwacht | Werkelijke\")\n",
    "nandP = Perceptron([-1, -1, -1], 1)\n",
    "print(\"1 | \", nandP.activation([0, 0]))\n",
    "print(\"1 | \", nandP.activation([0, 1]))\n",
    "print(\"1 | \", nandP.activation([1, 0]))\n",
    "print(\"0 | \", nandP.activation([1, 1]))"
   ]
  },
  {
   "cell_type": "code",
   "execution_count": 7,
   "metadata": {},
   "outputs": [
    {
     "name": "stdout",
     "output_type": "stream",
     "text": [
      "OR:\n",
      "Verwacht | Werkelijke\n",
      "0 |  0\n",
      "1 |  1\n",
      "1 |  1\n",
      "1 |  1\n"
     ]
    }
   ],
   "source": [
    "print(\"OR:\\nVerwacht | Werkelijke\")\n",
    "orP = Perceptron([1, 1], -1)\n",
    "print(\"0 | \", orP.activation([0, 0]))\n",
    "print(\"1 | \", orP.activation([0, 1]))\n",
    "print(\"1 | \", orP.activation([1, 0]))\n",
    "print(\"1 | \", orP.activation([1, 1]))"
   ]
  },
  {
   "cell_type": "code",
   "execution_count": 8,
   "metadata": {},
   "outputs": [
    {
     "name": "stdout",
     "output_type": "stream",
     "text": [
      "NOR:\n",
      "Verwacht | Werkelijke\n",
      "1 |  1\n",
      "0 |  0\n",
      "0 |  0\n",
      "0 |  0\n",
      "0 |  0\n",
      "0 |  0\n",
      "0 |  0\n",
      "0 |  0\n"
     ]
    }
   ],
   "source": [
    "print(\"NOR:\\nVerwacht | Werkelijke\")\n",
    "nor = Perceptron([-1, -1, -1], 0)\n",
    "print(\"1 | \", nor.activation([0, 0, 0]))\n",
    "print(\"0 | \", nor.activation([1, 0, 0]))\n",
    "print(\"0 | \", nor.activation([0, 1, 0]))\n",
    "print(\"0 | \", nor.activation([0, 0, 1]))\n",
    "print(\"0 | \", nor.activation([1, 1, 0]))\n",
    "print(\"0 | \", nor.activation([0, 1, 1]))\n",
    "print(\"0 | \", nor.activation([1, 0, 1]))\n",
    "print(\"0 | \", nor.activation([1, 1, 1]))"
   ]
  },
  {
   "cell_type": "code",
   "execution_count": 9,
   "metadata": {},
   "outputs": [],
   "source": [
    "class PerceptronLayer:\n",
    "    def __init__(self, layerID, perceptronList, amountOfInputs):\n",
    "        self.layerID = layerID\n",
    "        self.perceptronList = perceptronList\n",
    "        self.amountOfInputs = amountOfInputs\n",
    "    def __repr__():\n",
    "        return \"LayerID: {}, Perceptron List: {}, Hoeveelheid inputs: {}.\".format(self.weight, self.bias, self.amountOfInputs)\n",
    "    def __str__():\n",
    "        return \"LayerID: {}, Perceptron List: {}, Hoeveelheid inputs: {}.\".format(self.weight, self.bias, self.amountOfInputs)\n",
    "    \n",
    "    def activatePerceptrons(self, inputList):\n",
    "        \"\"\"\n",
    "        Returned een lijst met de activation-waardes van alle perceptrons in de layer\n",
    "        \"\"\"\n",
    "        list = []\n",
    "        for p in self.perceptronList:\n",
    "            list.append(p.activation(inputList))\n",
    "        return list\n",
    "    \n",
    "    def createBinList(self, amountOfInputs): #source voor binary list: https://stackoverflow.com/questions/14931769/how-to-get-all-combination-of-n-binary-value\n",
    "        \"\"\"\n",
    "        Maakt de binary input lijst aan voor de hoeveelheid inputs die je meegeeft.\n",
    "        \"\"\"\n",
    "        algList = []\n",
    "        for inputs in self.amountOfInputs:\n",
    "            lijst = []\n",
    "            for i in range(1<< inputs):\n",
    "                s=bin(i)[2:]\n",
    "                s='0'*(inputs-len(s))+s\n",
    "                lijst.append(list(map(int,list(s))))\n",
    "            algList.append(list(lijst))\n",
    "        return algList\n",
    "    \n",
    "    def perceptronLayerConverter(self):\n",
    "        \"\"\"\n",
    "        Maakt de complete tabel met outputs voor de gegeven inputs: de complete binary list\n",
    "        \"\"\"\n",
    "        for perceptrons in self.perceptronList:\n",
    "            print(\"\\n{}\".format(perceptrons)) #print de naam\n",
    "            perceptronWeightList = []\n",
    "            #Dit stuk had wel iets minder repetetief kunnen zijn. Ben al blij genoeg dat het bug-free werkt\n",
    "            #Ook raakt hij de wegg kwijt als je meerdere dezelfde perceptrons in een layer hebt (2x AND bijvoorbeeld)\n",
    "            if(perceptrons == \"AND\"):\n",
    "                indexAND = 0\n",
    "                algList = self.createBinList(self.amountOfInputs[self.perceptronList.index(perceptrons)])\n",
    "                for x in algList[self.perceptronList.index(perceptrons)]:\n",
    "                    perceptronWeightList.append(1) #Dit is de weight die hoort bij AND-gate, voor elke combinatie (0-0, 0-1 etc)\n",
    "                for item in algList[self.perceptronList.index(perceptrons)]:\n",
    "                    print(algList[self.perceptronList.index(\"AND\")][indexAND])\n",
    "                    AND = Perceptron(perceptronWeightList, (self.amountOfInputs[self.perceptronList.index(perceptrons)] * -1))\n",
    "                    #^ bias van een AND-gate\n",
    "                    print(AND.activation(item))\n",
    "                    indexAND += 1\n",
    "        \n",
    "            elif(perceptrons == \"NAND\"):\n",
    "                indexNAND = 0\n",
    "                algList = self.createBinList(self.amountOfInputs[self.perceptronList.index(perceptrons)])\n",
    "                for x in algList[self.perceptronList.index(perceptrons)]:\n",
    "                    perceptronWeightList.append(-1)\n",
    "                for item in algList[self.perceptronList.index(perceptrons)]:\n",
    "                    print(algList[self.perceptronList.index(\"NAND\")][indexNAND])\n",
    "                    NAND = Perceptron(perceptronWeightList, (self.amountOfInputs[self.perceptronList.index(perceptrons)] - 1)) \n",
    "                    #^ bias van een NAND-gate\n",
    "                    print(NAND.activation(item))\n",
    "                    indexNAND += 1\n",
    "                \n",
    "            elif(perceptrons == \"OR\"):\n",
    "                indexOR = 0\n",
    "                algList = self.createBinList(self.amountOfInputs[self.perceptronList.index(perceptrons)])\n",
    "                for x in algList[self.perceptronList.index(perceptrons)]:\n",
    "                    perceptronWeightList.append(1)\n",
    "                for item in algList[self.perceptronList.index(perceptrons)]:\n",
    "                    print(algList[self.perceptronList.index(\"OR\")][indexOR])\n",
    "                    OR = Perceptron(perceptronWeightList, -1) #bias van een OR-gate\n",
    "                    print(OR.activation(item))\n",
    "                    indexOR += 1\n",
    "\n",
    "            elif(perceptrons == \"NOR\"):\n",
    "                indexNOR = 0\n",
    "                algList = self.createBinList(self.amountOfInputs[self.perceptronList.index(perceptrons)])\n",
    "                for x in algList[self.perceptronList.index(perceptrons)]:\n",
    "                    perceptronWeightList.append(-1)\n",
    "                for item in algList[self.perceptronList.index(perceptrons)]:\n",
    "                    print(algList[self.perceptronList.index(\"NOR\")][indexNOR])\n",
    "                    NOR = Perceptron(perceptronWeightList, 1) #bias van een NOR-gate\n",
    "                    print(NOR.activation(item))\n",
    "                    indexNOR += 1\n",
    "\n",
    "            elif(perceptrons == \"INVERT\"): #Eigenlijk ongebruikt voor alles boven 1 input\n",
    "                indexINV = 0\n",
    "                algList = self.createBinList(self.amountOfInputs[self.perceptronList.index(perceptrons)])\n",
    "                for x in algList[self.perceptronList.index(perceptrons)]:\n",
    "                    perceptronWeightList.append(-1)\n",
    "                for item in algList[self.perceptronList.index(perceptrons)]:\n",
    "                    print(algList[self.perceptronList.index(\"INVERT\")][indexINV])\n",
    "                    INVERT = Perceptron(perceptronWeightList, 0) #bias van een INVERT-gate\n",
    "                    print(INVERT.activation(item))\n",
    "                    indexINV += 1\n",
    "            "
   ]
  },
  {
   "cell_type": "code",
   "execution_count": 10,
   "metadata": {},
   "outputs": [
    {
     "name": "stdout",
     "output_type": "stream",
     "text": [
      "\n",
      "AND\n",
      "[0, 0, 0]\n",
      "0\n",
      "[0, 0, 1]\n",
      "0\n",
      "[0, 1, 0]\n",
      "0\n",
      "[0, 1, 1]\n",
      "0\n",
      "[1, 0, 0]\n",
      "0\n",
      "[1, 0, 1]\n",
      "0\n",
      "[1, 1, 0]\n",
      "0\n",
      "[1, 1, 1]\n",
      "1\n",
      "\n",
      "NOR\n",
      "[0, 0, 0, 0]\n",
      "1\n",
      "[0, 0, 0, 1]\n",
      "1\n",
      "[0, 0, 1, 0]\n",
      "1\n",
      "[0, 0, 1, 1]\n",
      "0\n",
      "[0, 1, 0, 0]\n",
      "1\n",
      "[0, 1, 0, 1]\n",
      "0\n",
      "[0, 1, 1, 0]\n",
      "0\n",
      "[0, 1, 1, 1]\n",
      "0\n",
      "[1, 0, 0, 0]\n",
      "1\n",
      "[1, 0, 0, 1]\n",
      "0\n",
      "[1, 0, 1, 0]\n",
      "0\n",
      "[1, 0, 1, 1]\n",
      "0\n",
      "[1, 1, 0, 0]\n",
      "0\n",
      "[1, 1, 0, 1]\n",
      "0\n",
      "[1, 1, 1, 0]\n",
      "0\n",
      "[1, 1, 1, 1]\n",
      "0\n",
      "\n",
      "NAND\n",
      "[0, 0]\n",
      "1\n",
      "[0, 1]\n",
      "1\n",
      "[1, 0]\n",
      "1\n",
      "[1, 1]\n",
      "0\n"
     ]
    }
   ],
   "source": [
    "# Je kan de laatste list met nummers aanpassen naar een random int, en de hele lijst zal gegenereerd worden\n",
    "pl = PerceptronLayer(1, [\"AND\", \"NOR\", \"NAND\"], [3, 4, 2])\n",
    "pl.perceptronLayerConverter()"
   ]
  },
  {
   "cell_type": "code",
   "execution_count": 11,
   "metadata": {},
   "outputs": [],
   "source": [
    "class PerceptronNetwork:\n",
    "    \"\"\"\n",
    "    ActivatePerceptrons: Voert de activation-functie per perceptron uit en returned de uitkomst in een list\n",
    "    \"\"\"\n",
    "    def __init__(self, perceptronLayers):\n",
    "        self.perceptronLayers = perceptronLayers\n",
    "    \n",
    "    def feed_forward(self, input):\n",
    "        \"\"\"Pak de daadwerkelijke output (uit list) die overeenkomt met de input die je meegeeft\"\"\"\n",
    "        self.input = input\n",
    "        for layers in self.perceptronLayers:\n",
    "            output = layers.activatePerceptrons(self.input)\n",
    "            self.input = output\n",
    "#             print(\"Voor layer {} van het netwerk is de output: {}\".format(layers.layerID, output))\n",
    "        return output\n",
    "        "
   ]
  },
  {
   "cell_type": "code",
   "execution_count": 12,
   "metadata": {},
   "outputs": [
    {
     "name": "stdout",
     "output_type": "stream",
     "text": [
      "XOR Gate:\n",
      "input [0, 0] geeft: [0]\n",
      "\n",
      "input [0, 1] geeft: [1]\n",
      "\n",
      "input [1, 0] geeft: [1]\n",
      "\n",
      "input [1, 1] geeft: [0]\n",
      "\n"
     ]
    }
   ],
   "source": [
    "print(\"XOR Gate:\")\n",
    "XORP1 = Perceptron([-1, -1], 1) #NAND\n",
    "XORP2 = Perceptron([1, 1], -1) #OR\n",
    "XORP3 = Perceptron([1, 1], -2) #AND\n",
    "XORPL1 = PerceptronLayer(1, [XORP1, XORP2], 2)\n",
    "XORPL2 = PerceptronLayer(2, [XORP3], 2)\n",
    "XORPN = PerceptronNetwork([XORPL1, XORPL2])\n",
    "\n",
    "print(\"input [0, 0] geeft: {}\\n\".format(XORPN.feed_forward([0, 0]))) \n",
    "print(\"input [0, 1] geeft: {}\\n\".format(XORPN.feed_forward([0, 1])))\n",
    "print(\"input [1, 0] geeft: {}\\n\".format(XORPN.feed_forward([1, 0])))\n",
    "print(\"input [1, 1] geeft: {}\\n\".format(XORPN.feed_forward([1, 1])))"
   ]
  },
  {
   "cell_type": "code",
   "execution_count": 13,
   "metadata": {},
   "outputs": [
    {
     "name": "stdout",
     "output_type": "stream",
     "text": [
      "Half Adder:\n",
      "[0, 0] Output van de SUM: [0]\n",
      "[0, 0] Output van de CARRY: [0]\n",
      "\n",
      "[0, 1] Output van de SUM: [1]\n",
      "[0, 1] Output van de CARRY: [0]\n",
      "\n",
      "[1, 0] Output van de SUM: [1]\n",
      "[1, 0] Output van de CARRY: [0]\n",
      "\n",
      "[1, 1] Output van de SUM: [0]\n",
      "[1, 1] Output van de CARRY: [1]\n",
      "\n"
     ]
    }
   ],
   "source": [
    "print(\"Half Adder:\")\n",
    "HAP1 = Perceptron([1, 1], -2) #AND\n",
    "HAP2 = Perceptron([0], 0) #doet niks\n",
    "HAP3 = Perceptron([-1, -1], 1) #NAND\n",
    "HAP4 = Perceptron([1, 1], -1) #OR\n",
    "HAP5 = Perceptron([1, 1], -2) #AND\n",
    "HAPL1 = PerceptronLayer(1, [HAP3, HAP4], 2)\n",
    "HAPL2 = PerceptronLayer(2, [HAP5], 2)\n",
    "HAPL3 = PerceptronLayer(3, [HAP1], 2)\n",
    "HAPN = PerceptronNetwork([HAPL1, HAPL2])\n",
    "HAPN2 = PerceptronNetwork([HAPL3])\n",
    "\n",
    "print(\"[0, 0] Output van de SUM: {}\".format(HAPN.feed_forward([0, 0]))) #Dit is de output van de SUM (XOR)\n",
    "print(\"[0, 0] Output van de CARRY: {}\\n\".format(HAPN2.feed_forward([0, 0]))) #Dit is de output van de CARRY (AND)\n",
    "print(\"[0, 1] Output van de SUM: {}\".format(HAPN.feed_forward([0, 1]))) #Dit is de output van de SUM (XOR)\n",
    "print(\"[0, 1] Output van de CARRY: {}\\n\".format(HAPN2.feed_forward([0, 1]))) #Dit is de output van de CARRY (AND)\n",
    "print(\"[1, 0] Output van de SUM: {}\".format(HAPN.feed_forward([1, 0]))) #Dit is de output van de SUM (XOR)\n",
    "print(\"[1, 0] Output van de CARRY: {}\\n\".format(HAPN2.feed_forward([1, 0]))) #Dit is de output van de CARRY (AND)\n",
    "print(\"[1, 1] Output van de SUM: {}\".format(HAPN.feed_forward([1, 1]))) #Dit is de output van de SUM (XOR)\n",
    "print(\"[1, 1] Output van de CARRY: {}\\n\".format(HAPN2.feed_forward([1, 1]))) #Dit is de output van de CARRY (AND)"
   ]
  }
 ],
 "metadata": {
  "anaconda-cloud": {},
  "kernelspec": {
   "display_name": "Python 3",
   "language": "python",
   "name": "python3"
  },
  "language_info": {
   "codemirror_mode": {
    "name": "ipython",
    "version": 3
   },
   "file_extension": ".py",
   "mimetype": "text/x-python",
   "name": "python",
   "nbconvert_exporter": "python",
   "pygments_lexer": "ipython3",
   "version": "3.8.3"
  }
 },
 "nbformat": 4,
 "nbformat_minor": 1
}
